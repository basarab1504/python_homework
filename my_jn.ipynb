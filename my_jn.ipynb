{
 "metadata": {
  "language_info": {
   "codemirror_mode": {
    "name": "ipython",
    "version": 3
   },
   "file_extension": ".py",
   "mimetype": "text/x-python",
   "name": "python",
   "nbconvert_exporter": "python",
   "pygments_lexer": "ipython3",
   "version": "3.8.6-candidate"
  },
  "orig_nbformat": 2,
  "kernelspec": {
   "name": "Python 3.8.6 64-bit",
   "display_name": "Python 3.8.6 64-bit",
   "metadata": {
    "interpreter": {
     "hash": "2e3a9b329e974bf9c5439277bada1eb89b60d36140755b8082499e854cde43c2"
    }
   }
  }
 },
 "nbformat": 4,
 "nbformat_minor": 2,
 "cells": [
  {
   "source": [
    "# Super-omega-ultra-project"
   ],
   "cell_type": "markdown",
   "metadata": {}
  },
  {
   "source": [
    "#  Сперва необходимо спарсить данные из файла источника (в данном случае csv файл) в сущность типа Таблица"
   ],
   "cell_type": "markdown",
   "metadata": {}
  },
  {
   "source": [
    "import table\n",
    "\n",
    "path = r\"C:\\\\oracle\\\\python_homework\\\\data.csv\"\n",
    "\n",
    "csv_table = table.csv_table(path)"
   ],
   "cell_type": "code",
   "metadata": {},
   "execution_count": 21,
   "outputs": []
  },
  {
   "source": [
    "# После того, как таблица создана, ее необходимо категоризировать"
   ],
   "cell_type": "markdown",
   "metadata": {}
  },
  {
   "cell_type": "code",
   "execution_count": 22,
   "metadata": {},
   "outputs": [
    {
     "output_type": "stream",
     "name": "stdout",
     "text": [
      "{None: 'G8', 'post_index': 'G1', 'name': 'G2', 'phone_number': 'G10', 'inn': 'G7', 'website': 'G9'}\n"
     ]
    }
   ],
   "source": [
    "import categorizer\n",
    "\n",
    "c = categorizer.categorizer()\n",
    "csv_table.categories = c.get_category(csv_table.get_data())\n",
    "print(csv_table.categories)"
   ]
  },
  {
   "cell_type": "code",
   "execution_count": null,
   "metadata": {},
   "outputs": [],
   "source": []
  }
 ]
}