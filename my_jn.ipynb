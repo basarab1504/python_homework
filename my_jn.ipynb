{
 "metadata": {
  "language_info": {
   "codemirror_mode": {
    "name": "ipython",
    "version": 3
   },
   "file_extension": ".py",
   "mimetype": "text/x-python",
   "name": "python",
   "nbconvert_exporter": "python",
   "pygments_lexer": "ipython3",
   "version": "3.8.6-candidate"
  },
  "orig_nbformat": 2,
  "kernelspec": {
   "name": "Python 3.8.6 64-bit",
   "display_name": "Python 3.8.6 64-bit",
   "metadata": {
    "interpreter": {
     "hash": "2e3a9b329e974bf9c5439277bada1eb89b60d36140755b8082499e854cde43c2"
    }
   }
  }
 },
 "nbformat": 4,
 "nbformat_minor": 2,
 "cells": [
  {
   "source": [
    "# Super-omega-ultra-project"
   ],
   "cell_type": "markdown",
   "metadata": {}
  },
  {
   "cell_type": "code",
   "execution_count": null,
   "metadata": {},
   "outputs": [],
   "source": [
    "import json\n",
    "path = r'C:\\oracle\\python_homework\\credentials.json'\n",
    "credentials = json.load(open(path))"
   ]
  },
  {
   "source": [
    "#  Сперва необходимо спарсить данные из файла источника (в данном случае csv файл) в сущность типа Таблица"
   ],
   "cell_type": "markdown",
   "metadata": {}
  },
  {
   "source": [
    "import table\n",
    "\n",
    "path = r\"C:\\\\oracle\\\\python_homework\\\\data.csv\"\n",
    "\n",
    "csv_table = table.csv_table(path)"
   ],
   "cell_type": "code",
   "metadata": {},
   "execution_count": null,
   "outputs": []
  },
  {
   "source": [
    "# После того, как таблица создана, ее необходимо категоризировать"
   ],
   "cell_type": "markdown",
   "metadata": {}
  },
  {
   "cell_type": "code",
   "execution_count": null,
   "metadata": {},
   "outputs": [],
   "source": [
    "import categorizer\n",
    "\n",
    "c = categorizer.categorizer()\n",
    "csv_table.categories = c.get_category(csv_table.get_data())"
   ]
  },
  {
   "cell_type": "code",
   "execution_count": null,
   "metadata": {},
   "outputs": [],
   "source": [
    "print(csv_table.categories)"
   ]
  },
  {
   "source": [
    "# Можно считывать не только таблицы csv, но также таблицы Oracle"
   ],
   "cell_type": "markdown",
   "metadata": {}
  },
  {
   "source": [
    "# Перед этим необходимо инициализировать клиент Oracle"
   ],
   "cell_type": "markdown",
   "metadata": {}
  },
  {
   "source": [
    "import cx_Oracle\n",
    "\n",
    "path_to_client = r\"C:\\\\oracle\\\\instantclient_19_8\"\n",
    "cx_Oracle.init_oracle_client(path_to_client)"
   ],
   "cell_type": "code",
   "metadata": {},
   "execution_count": null,
   "outputs": []
  },
  {
   "source": [
    "# Для достоверности желательно удалить изначальную таблицу, пересоздать ее и заполнить первоначальными данными"
   ],
   "cell_type": "markdown",
   "metadata": {}
  },
  {
   "cell_type": "code",
   "execution_count": null,
   "metadata": {},
   "outputs": [],
   "source": [
    "clear(credentials)"
   ]
  },
  {
   "cell_type": "code",
   "execution_count": null,
   "metadata": {},
   "outputs": [],
   "source": [
    "table_name = \"petrushin_test\"\n",
    "\n",
    "oracle_table = table.oracle_table(credentials[\"login\"], credentials[\"password\"], credentials[\"host\"], table_name)\n",
    "oracle_table.categories = c.get_category(oracle_table.get_data())"
   ]
  },
  {
   "source": [
    "# После того как таблицы созданы и их данные категоризированы, одну таблицу можно обновить данными из другой"
   ],
   "cell_type": "markdown",
   "metadata": {}
  },
  {
   "cell_type": "code",
   "execution_count": null,
   "metadata": {},
   "outputs": [],
   "source": [
    "print(oracle_table.get_data())"
   ]
  },
  {
   "cell_type": "code",
   "execution_count": null,
   "metadata": {},
   "outputs": [],
   "source": [
    "print(oracle_table.categories)"
   ]
  },
  {
   "cell_type": "code",
   "execution_count": null,
   "metadata": {},
   "outputs": [],
   "source": [
    "print(csv_table.get_data())"
   ]
  },
  {
   "cell_type": "code",
   "execution_count": null,
   "metadata": {},
   "outputs": [],
   "source": [
    "print(csv_table.categories)"
   ]
  },
  {
   "source": [
    "# Вызов функции обновления таблиц"
   ],
   "cell_type": "markdown",
   "metadata": {}
  },
  {
   "cell_type": "code",
   "execution_count": null,
   "metadata": {},
   "outputs": [],
   "source": [
    "oracle_table.update_from_table(csv_table)"
   ]
  },
  {
   "cell_type": "code",
   "execution_count": null,
   "metadata": {},
   "outputs": [],
   "source": [
    "print(oracle_table.get_data())"
   ]
  },
  {
   "cell_type": "code",
   "execution_count": null,
   "metadata": {},
   "outputs": [],
   "source": [
    "print(oracle_table.categories)"
   ]
  }
 ]
}